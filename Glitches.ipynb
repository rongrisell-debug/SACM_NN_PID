{
 "cells": [
  {
   "cell_type": "code",
   "execution_count": 7,
   "metadata": {},
   "outputs": [
    {
     "name": "stdout",
     "output_type": "stream",
     "text": [
      "             timestamp      value\n",
      "0  2014-04-01 00:00:00  19.761252\n",
      "1  2014-04-01 00:05:00  20.500833\n",
      "2  2014-04-01 00:10:00  19.961641\n",
      "3  2014-04-01 00:15:00  21.490266\n",
      "4  2014-04-01 00:20:00  20.187739\n"
     ]
    },
    {
     "data": {
      "image/png": "[encoded data removed]",
      "text/plain": [
       "<Figure size 432x288 with 1 Axes>"
      ]
     },
     "metadata": {
      "needs_background": "light"
     },
     "output_type": "display_data"
    },
    {
     "name": "stdout",
     "output_type": "stream",
     "text": [
      "NoisySinusoid completed normally.\n"
     ]
    }
   ],
   "source": [
    "#Glitches  -- for  NeuralNetwork__Params_for_PID\n",
    "#TimeSeriesNN\n",
    "#Follows closely https://keras.io/examples/timeseries/timeseries_anomaly_detection/\n",
    "import numpy as np\n",
    "import pandas as pd\n",
    "import tensorflow as tf\n",
    "from tensorflow import keras\n",
    "from tensorflow.keras import layers\n",
    "from datetime import datetime\n",
    "from matplotlib import pyplot as plt\n",
    "from matplotlib import dates as md\n",
    "import csv\n",
    "import random\n",
    "'''Uses the Numenta Anomaly Benchmark(NAB) dataset. \n",
    "Provides artifical timeseries data containing labeled anomalous \n",
    "periods of behavior. Data are ordered, timestamped, single-valued metrics.\n",
    "-- Note: We must install NAB with conda env create\n",
    "We plan to use the art_daily_small_noise.csv file for training and the \n",
    "art_daily_jumpsup.csv file for testing. \n",
    "The simplicity of the NAB dataset allows us to demonstrate anomaly detection effectively.'''\n",
    "\n",
    "master_url_root = \"https://raw.githubusercontent.com/numenta/NAB/master/data/\"\n",
    "#master_url_root = \"C:/users/rongrisell/Project/Resusc/NAB-master/NAB-master/data/\"\"\n",
    "\n",
    "df_daily_jumpsup_url_suffix = \"artificialWithAnomaly/art_daily_jumpsup.csv\"\n",
    "df_daily_jumpsup_url = master_url_root + df_daily_jumpsup_url_suffix\n",
    "df_daily_jumpsup = pd.read_csv(df_daily_jumpsup_url)\n",
    "\n",
    "print(df_daily_jumpsup.head())\n",
    "def plot_dates_values(data):\n",
    "    dates = data[\"timestamp\"].to_list()\n",
    "    values = data[\"value\"].to_list()\n",
    "    dates = [datetime.strptime(x, \"%Y-%m-%d %H:%M:%S\") for x in dates]\n",
    "    plt.subplots_adjust(bottom=0.2)\n",
    "    plt.xticks(rotation=25)\n",
    "    ax = plt.gca()\n",
    "    xfmt = md.DateFormatter(\"%Y-%m-%d %H:%M:%S\")\n",
    "    ax.xaxis.set_major_formatter(xfmt)\n",
    "    plt.plot(dates, values)\n",
    "    plt.show()\n",
    "    \n",
    "plot_dates_values(df_daily_jumpsup)\n",
    "\n",
    "class glitches:\n",
    "    def __init__(self, M, out_f = \"NN_3parms_sinusoids.csv\"):\n",
    "        self.out_f = out_f\n",
    "        self.M = M\n",
    "\n",
    "    def create_bleeding(self):\n",
    "        scale = 1 / 80\n",
    "        MAP_target = 65\n",
    "        values = df_daily_jumpsup[\"value\"].to_list()\n",
    "        try:\n",
    "            outp = open(self.out_f,\"w+\",encoding=\"utf8\",newline='')\n",
    "            csv_out = csv.writer(outp, delimiter=',')\n",
    "            i = 0\n",
    "            for i in range(0, self.M):\n",
    "                meas = []\n",
    "                # twelve measurments at preceeding time steps\n",
    "                for j in range(0,8):\n",
    "                    val = MAP_target + values[i+j] * scale - 20 * scale\n",
    "                    meas.append(val)\n",
    "                Kp = 1 * random.uniform(0, 1)\n",
    "                meas.append(Kp)\n",
    "                Ki = 2.1 * random.uniform(0, 1)\n",
    "                meas.append(Ki)\n",
    "                Kd = 0.5 * random.uniform(0, 1)\n",
    "                meas.append(Kd)\n",
    "                map = MAP_target\n",
    "                meas.append(map)\n",
    "                csv_out.writerow(meas)\n",
    "                i += 1           \n",
    "            \n",
    "            outp.close()\n",
    "            print(\"Glitches completed normally.\")\n",
    "        except:\n",
    "            raise(\"***output simulation data file couldn't not be openned.\")\n",
    "        finally:\n",
    "            outp.close()\n",
    "\n",
    "# Check it -----------------------        \n",
    "sim = glitches(100,\"NN_3parms_glitches.csv\")\n",
    "sim.create_bleeding()"
   ]
  }
 ],
 "metadata": {
  "kernelspec": {
   "display_name": "Python 3",
   "language": "python",
   "name": "python3"
  },
  "language_info": {
   "codemirror_mode": {
    "name": "ipython",
    "version": 3
   },
   "file_extension": ".py",
   "mimetype": "text/x-python",
   "name": "python",
   "nbconvert_exporter": "python",
   "pygments_lexer": "ipython3",
   "version": "3.6.7"
  }
 },
 "nbformat": 4,
 "nbformat_minor": 4
}
