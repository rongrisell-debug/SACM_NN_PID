{
 "cells": [
  {
   "cell_type": "code",
   "execution_count": null,
   "metadata": {},
   "outputs": [],
   "source": [
    "# Kramer's table-driven controller with 6 levels\n",
    "def Table_Driven_Controller(map = 0):\n",
    "    if map > 40 & map < 50:\n",
    "        print(\"Level 1 map: \"+str(map))\n",
    "    elif map >= 50 & map < 60:\n",
    "        primt(\"Level 2 map: \"+str(map))\n",
    "    elif map >= 60 & map < 70:\n",
    "        primt(\"Level 3 map: \"+str(map))\n",
    "    elif map >= 70 & map < 80:\n",
    "        primt(\"Level 4 map: \"+str(map))\n",
    "    elif map >= 80 & map < 90:\n",
    "        primt(\"Level 5 map: \"+str(map))\n",
    "    else\n",
    "        print(\"Level 6 map: \"str(map))\n",
    "        \n",
    "#-- test        \n",
    "del_U = Table_Driven_Controller(55)\n",
    "print(del_U)"
   ]
  }
 ],
 "metadata": {
  "kernelspec": {
   "display_name": "Python 3",
   "language": "python",
   "name": "python3"
  },
  "language_info": {
   "codemirror_mode": {
    "name": "ipython",
    "version": 3
   },
   "file_extension": ".py",
   "mimetype": "text/x-python",
   "name": "python",
   "nbconvert_exporter": "python",
   "pygments_lexer": "ipython3",
   "version": "3.6.7"
  }
 },
 "nbformat": 4,
 "nbformat_minor": 4
}
