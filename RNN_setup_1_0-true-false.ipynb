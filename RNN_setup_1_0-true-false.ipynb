{
 "cells": [
  {
   "cell_type": "code",
   "execution_count": 2,
   "metadata": {},
   "outputs": [
    {
     "name": "stdout",
     "output_type": "stream",
     "text": [
      "SIM completed file normally.\n"
     ]
    }
   ],
   "source": [
    "# RNN_setup_1_0 -- NN_for_PID  module setup\n",
    "#-------------------------------------------\n",
    "import random\n",
    "import csv\n",
    "\n",
    "MAP_target = 65\n",
    "file_size = 100\n",
    "\n",
    "#------- Helper functions -------------\n",
    "def print_frame():\n",
    "    callerframerecord = inspect.stack()[1]    # 0 represents this line\n",
    "                                              # 1 represents line at caller\n",
    "    frame = callerframerecord[0]\n",
    "    info = inspect.getframeinfo(frame)\n",
    "    if(dbg1): \n",
    "        print(info.filename)                      # __FILE__\n",
    "        print(info.function)                      # __FUNCTION__\n",
    "        print(info.lineno)                        # __LINE__\n",
    "        print(\" \")\n",
    "    return info.lineno\n",
    "\n",
    "# -------- Main Class -----------------\n",
    "class SIM:\n",
    "    def __init__(self, batch_f = \"training.csv\"):\n",
    "        self.batch_f = batch_f\n",
    "            \n",
    "    #-- Alternate 18 mmHg low and 0 mmHg\n",
    "    #   near the MAP target.\n",
    "    def create_batch_0(self):\n",
    "        try:\n",
    "            outp = open(self.batch_f,\"w\",encoding=\"utf8\",newline='')\n",
    "            csv_out = csv.writer(outp, delimiter=',')\n",
    "            # first level at 0, next at -10   \n",
    "            i = 0\n",
    "            good_score = 0.99\n",
    "\n",
    "            for i in range(0, file_size):\n",
    "                # measurments at time steps\n",
    "                meas = []\n",
    "                if (i % 2 == 0):\n",
    "                    for j in range(0,49):\n",
    "                        meas.append(MAP_target + 1 * random.uniform(0, 1))\n",
    "                    score = good_score\n",
    "                else: # bad score\n",
    "                    for j in range(0,49):\n",
    "                        meas.append(MAP_target - 20 + 1 * random.uniform(0, 1))\n",
    "                    score = 0\n",
    "                #score = MAP_target   ##### CHANGE 08/08/2020\n",
    "                #meas.append(score)\n",
    "                csv_out.writerow(meas)\n",
    "            outp.close()\n",
    "            print(\"SIM completed file normally.\")\n",
    "\n",
    "        except OSError as err:\n",
    "            print(\"OS error: {0}\".format(err))\n",
    "            success = 0\n",
    "        except ValueError:\n",
    "            print(\"Could not convert data to an integer.\")\n",
    "            success = 0\n",
    "        except IOError:\n",
    "            print (\"File error with :\", batch_f)\n",
    "            success = 0\n",
    "        except:\n",
    "            print(\"Unexpected error:\", sys.exc_info()[0])\n",
    "            success = 0\n",
    "            raise\n",
    "        finally:\n",
    "            outp.close()\n",
    "            \n",
    "# Check it -----------------------        \n",
    "sim = SIM(\"RNN_training.csv\")\n",
    "sim.create_batch_0()"
   ]
  }
 ],
 "metadata": {
  "kernelspec": {
   "display_name": "Python 3",
   "language": "python",
   "name": "python3"
  },
  "language_info": {
   "codemirror_mode": {
    "name": "ipython",
    "version": 3
   },
   "file_extension": ".py",
   "mimetype": "text/x-python",
   "name": "python",
   "nbconvert_exporter": "python",
   "pygments_lexer": "ipython3",
   "version": "3.6.7"
  }
 },
 "nbformat": 4,
 "nbformat_minor": 4
}
