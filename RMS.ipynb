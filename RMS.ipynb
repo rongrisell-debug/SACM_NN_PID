{
 "cells": [
  {
   "cell_type": "code",
   "execution_count": 2,
   "metadata": {},
   "outputs": [
    {
     "name": "stdout",
     "output_type": "stream",
     "text": [
      "RMS completed normally.\n",
      "0\n"
     ]
    }
   ],
   "source": [
    "# RMS  --  R.M.S. performance function between measured response and controller output.\n",
    "import math\n",
    "class RMS:\n",
    "\n",
    "    def __init__(self,model_f,control_f):\n",
    "        self.model_f = model_f\n",
    "        self.control_f = control_f\n",
    "        self.rms = 0\n",
    "    \n",
    "    def __return_rms__(self):\n",
    "        return self.rms\n",
    "    \n",
    "    def initialize(self):\n",
    "        try:  \n",
    "            count1 = 0\n",
    "            with open(self.model_f, 'r', encoding = \"utf8\") as inp:\n",
    "                if (inp.mode == 'r'):\n",
    "                    model[count1] = inp.read()\n",
    "                    print (\"model count :\",count1)\n",
    "                    count1 += 1\n",
    "                inp.close\n",
    "            print(\"RMS: measured response read in correctly.\")\n",
    "        \n",
    "            try:\n",
    "                count2 = 0\n",
    "                with open(self.control_f, 'r', encoding = \"utf8\") as inp:\n",
    "                    if (inp.mode == 'r'):\n",
    "                        control[count2] = inp.read()\n",
    "                        print (control[count2])\n",
    "                        count2 = count2 + 1\n",
    "                out.close()\n",
    "            \n",
    "                count = min(count1, count2)\n",
    "            \n",
    "                for i in range(0,count):\n",
    "                    sum += (control[i] - model[i]) * (control[i] - model[i])\n",
    "                if (count <= 0):\n",
    "                    print(\"***RMS: file count 0\")\n",
    "                else:\n",
    "                    self.rms = sqrt(sum) / count\n",
    "                \n",
    "            except:\n",
    "                raise(e_out,\"***Output file\",output_f,\" couldn't not be openned\")\n",
    "            finally:\n",
    "                f.close\n",
    "        except:\n",
    "            raise(\"***RMS: measured response couldn't not be openned\")  \n",
    "        finally:\n",
    "            inp.close\n",
    "\n",
    "    print(\"RMS completed normally.\")\n",
    "\n",
    "#-- test ------------------------\n",
    "r = RMS(\"control.csv\", \"control.csv\")  # should be zero\n",
    "print (r.__return_rms__())\n"
   ]
  }
 ],
 "metadata": {
  "kernelspec": {
   "display_name": "Python 3",
   "language": "python",
   "name": "python3"
  },
  "language_info": {
   "codemirror_mode": {
    "name": "ipython",
    "version": 3
   },
   "file_extension": ".py",
   "mimetype": "text/x-python",
   "name": "python",
   "nbconvert_exporter": "python",
   "pygments_lexer": "ipython3",
   "version": "3.6.7"
  }
 },
 "nbformat": 4,
 "nbformat_minor": 4
}
